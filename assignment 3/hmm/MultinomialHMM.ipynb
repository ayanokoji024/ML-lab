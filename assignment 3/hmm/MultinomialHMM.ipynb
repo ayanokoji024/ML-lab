{
 "cells": [
  {
   "cell_type": "code",
   "execution_count": 1,
   "metadata": {
    "collapsed": true
   },
   "outputs": [],
   "source": [
    "import numpy as np\n",
    "import pandas as pd\n",
    "from sklearn.datasets import load_wine, load_breast_cancer\n",
    "\n",
    "wine1 = load_wine()\n",
    "i = wine1.feature_names\n",
    "wine_Y = wine1.target\n",
    "wine = pd.DataFrame(data=wine1.data, columns=wine1.feature_names)\n",
    "\n",
    "breast_cancer = load_breast_cancer()\n",
    "b = breast_cancer.feature_names\n",
    "breast_cancer_Y = breast_cancer.target\n",
    "breast_cancer = pd.DataFrame(data=breast_cancer.data, columns=breast_cancer.feature_names)\n",
    "\n",
    "ionosphere=pd.read_csv('https://raw.githubusercontent.com/hargurjeet/MachineLearning/Ionosphere/ionosphere_data.csv')\n",
    "ionosphere.rename(columns={'column_ai':'target'}, inplace=True)\n",
    "# print(ionosphere)\n",
    "\n",
    "wine_X = wine[i]\n",
    "breast_cancer_X = breast_cancer[b]\n",
    "ionosphere_X = ionosphere.drop(['target'], axis=1)\n",
    "ionosphere_Y = ionosphere.target"
   ]
  },
  {
   "cell_type": "code",
   "execution_count": 23,
   "outputs": [
    {
     "name": "stdout",
     "output_type": "stream",
     "text": [
      "alcohol                         0\n",
      "malic_acid                      0\n",
      "ash                             0\n",
      "alcalinity_of_ash               0\n",
      "magnesium                       0\n",
      "total_phenols                   0\n",
      "flavanoids                      0\n",
      "nonflavanoid_phenols            0\n",
      "proanthocyanins                 0\n",
      "color_intensity                 0\n",
      "hue                             0\n",
      "od280/od315_of_diluted_wines    0\n",
      "proline                         0\n",
      "dtype: int32\n",
      "   alcohol  malic_acid  ash  alcalinity_of_ash  magnesium  total_phenols  \\\n",
      "0        0           0    0                  0          0              0   \n",
      "1        0           0    0                  0          0              0   \n",
      "2        0           0    0                  0          0              0   \n",
      "3        0           0    0                  0          0              0   \n",
      "4        0           0    0                  0          0              0   \n",
      "\n",
      "   flavanoids  nonflavanoid_phenols  proanthocyanins  color_intensity  hue  \\\n",
      "0           0                     0                0                0    0   \n",
      "1           0                     0                0                0    0   \n",
      "2           0                     0                0                0    0   \n",
      "3           0                     0                0                0    0   \n",
      "4           0                     0                0                0    0   \n",
      "\n",
      "   od280/od315_of_diluted_wines  proline  \n",
      "0                             0        0  \n",
      "1                             0        0  \n",
      "2                             0        0  \n",
      "3                             0        0  \n",
      "4                             0        0  \n",
      "alcohol                         int32\n",
      "malic_acid                      int32\n",
      "ash                             int32\n",
      "alcalinity_of_ash               int32\n",
      "magnesium                       int32\n",
      "total_phenols                   int32\n",
      "flavanoids                      int32\n",
      "nonflavanoid_phenols            int32\n",
      "proanthocyanins                 int32\n",
      "color_intensity                 int32\n",
      "hue                             int32\n",
      "od280/od315_of_diluted_wines    int32\n",
      "proline                         int32\n",
      "dtype: object\n",
      "True\n",
      "   alcohol  malic_acid  ash  alcalinity_of_ash  magnesium  total_phenols  \\\n",
      "0      0.0         0.0  0.0                0.0        0.0            0.0   \n",
      "1      0.0         0.0  0.0                0.0        0.0            0.0   \n",
      "2      0.0         0.0  0.0                0.0        0.0            0.0   \n",
      "3      0.0         0.0  0.0                0.0        0.0            0.0   \n",
      "4      0.0         0.0  0.0                0.0        0.0            0.0   \n",
      "\n",
      "   flavanoids  nonflavanoid_phenols  proanthocyanins  color_intensity  hue  \\\n",
      "0         0.0                   0.0              0.0              0.0  0.0   \n",
      "1         0.0                   0.0              0.0              0.0  0.0   \n",
      "2         0.0                   0.0              0.0              0.0  0.0   \n",
      "3         0.0                   0.0              0.0              0.0  0.0   \n",
      "4         0.0                   0.0              0.0              0.0  0.0   \n",
      "\n",
      "   od280/od315_of_diluted_wines  proline  \n",
      "0                           0.0      0.0  \n",
      "1                           0.0      0.0  \n",
      "2                           0.0      0.0  \n",
      "3                           0.0      0.0  \n",
      "4                           0.0      0.0  \n",
      "[0 0 0 0 0 0 0 0 0 0 0 0 0 0 0 0 0 0 0 0 0 0 0 0 0 0 0 0 0 0 0 0 0 0 0 0 0\n",
      " 0 0 0 0 0 0 0 0 0 0 0 0 0 0 0 0 0 0 0 0 0 0 1 1 1 1 1 1 1 1 1 1 1 1 1 1 1\n",
      " 1 1 1 1 1 1 1 1 1 1 1 1 1 1 1 1 1 1 1 1 1 1 1 1 1 1 1 1 1 1 1 1 1 1 1 1 1\n",
      " 1 1 1 1 1 1 1 1 1 1 1 1 1 1 1 1 1 1 1 2 2 2 2 2 2 2 2 2 2 2 2 2 2 2 2 2 2\n",
      " 2 2 2 2 2 2 2 2 2 2 2 2 2 2 2 2 2 2 2 2 2 2 2 2 2 2 2 2 2 2]\n",
      "alcohol                         float32\n",
      "malic_acid                      float32\n",
      "ash                             float32\n",
      "alcalinity_of_ash               float32\n",
      "magnesium                       float32\n",
      "total_phenols                   float32\n",
      "flavanoids                      float32\n",
      "nonflavanoid_phenols            float32\n",
      "proanthocyanins                 float32\n",
      "color_intensity                 float32\n",
      "hue                             float32\n",
      "od280/od315_of_diluted_wines    float32\n",
      "proline                         float32\n",
      "dtype: object\n"
     ]
    }
   ],
   "source": [
    "import numpy as np\n",
    "print(wine_X.min())\n",
    "print(wine_X.head())\n",
    "print(wine_X.dtypes)\n",
    "print(np.issubdtype(wine_X.alcalinity_of_ash.dtype, np.integer))\n",
    "def normalize_dataframe(df):\n",
    "    # Subtract the minimum value from each column\n",
    "    df_min = df.min()\n",
    "    df_normalized = df - df_min\n",
    "\n",
    "    # Divide by the range (max - min) of each column\n",
    "    df_range = df.max() - df_min\n",
    "    df_normalized /= df_range\n",
    "\n",
    "    for column in wine1.feature_names:\n",
    "        df_normalized[column] = df_normalized[column].astype('float32')\n",
    "\n",
    "    return df_normalized\n",
    "\n",
    "# Normalize the DataFrame\n",
    "wine_X = normalize_dataframe(wine_X)\n",
    "print(wine_X.head())\n",
    "print(wine_Y)\n",
    "print(wine_X.dtypes)"
   ],
   "metadata": {
    "collapsed": false
   }
  },
  {
   "cell_type": "code",
   "execution_count": 24,
   "outputs": [
    {
     "name": "stderr",
     "output_type": "stream",
     "text": [
      "MultinomialHMM has undergone major changes. The previous version was implementing a CategoricalHMM (a special case of MultinomialHMM). This new implementation follows the standard definition for a Multinomial distribution (e.g. as in https://en.wikipedia.org/wiki/Multinomial_distribution). See these issues for details:\n",
      "https://github.com/hmmlearn/hmmlearn/issues/335\n",
      "https://github.com/hmmlearn/hmmlearn/issues/340\n"
     ]
    },
    {
     "ename": "ValueError",
     "evalue": "Symbol counts should be nonnegative integers",
     "output_type": "error",
     "traceback": [
      "\u001B[1;31m---------------------------------------------------------------------------\u001B[0m",
      "\u001B[1;31mValueError\u001B[0m                                Traceback (most recent call last)",
      "\u001B[1;32m~\\AppData\\Local\\Temp\\ipykernel_11596\\1824487390.py\u001B[0m in \u001B[0;36m<module>\u001B[1;34m\u001B[0m\n\u001B[0;32m     30\u001B[0m     \u001B[0mparams\u001B[0m \u001B[1;33m=\u001B[0m \u001B[0mset\u001B[0m\u001B[1;33m(\u001B[0m\u001B[0mnp\u001B[0m\u001B[1;33m.\u001B[0m\u001B[0marray\u001B[0m\u001B[1;33m(\u001B[0m\u001B[0mtrain_X\u001B[0m\u001B[1;33m)\u001B[0m\u001B[1;33m.\u001B[0m\u001B[0mravel\u001B[0m\u001B[1;33m(\u001B[0m\u001B[1;33m)\u001B[0m\u001B[1;33m)\u001B[0m\u001B[1;33m\u001B[0m\u001B[1;33m\u001B[0m\u001B[0m\n\u001B[0;32m     31\u001B[0m     \u001B[0mmodel\u001B[0m \u001B[1;33m=\u001B[0m \u001B[0mMultinomialHMM\u001B[0m\u001B[1;33m(\u001B[0m\u001B[0mn_components\u001B[0m\u001B[1;33m=\u001B[0m\u001B[0mnum_of_states\u001B[0m\u001B[1;33m,\u001B[0m\u001B[0malgorithm\u001B[0m\u001B[1;33m=\u001B[0m\u001B[0malgo_type\u001B[0m\u001B[1;33m,\u001B[0m\u001B[0mrandom_state\u001B[0m\u001B[1;33m=\u001B[0m\u001B[0mrandom_state\u001B[0m\u001B[1;33m,\u001B[0m\u001B[0mn_iter\u001B[0m\u001B[1;33m=\u001B[0m\u001B[0mn_iter\u001B[0m\u001B[1;33m,\u001B[0m \u001B[0mtol\u001B[0m\u001B[1;33m=\u001B[0m\u001B[0mtol\u001B[0m\u001B[1;33m,\u001B[0m \u001B[0minit_params\u001B[0m\u001B[1;33m=\u001B[0m\u001B[0minit_params\u001B[0m\u001B[1;33m,\u001B[0m\u001B[0mparams\u001B[0m\u001B[1;33m=\u001B[0m\u001B[0mparams\u001B[0m\u001B[1;33m)\u001B[0m\u001B[1;33m\u001B[0m\u001B[1;33m\u001B[0m\u001B[0m\n\u001B[1;32m---> 32\u001B[1;33m     \u001B[0mmodel\u001B[0m\u001B[1;33m.\u001B[0m\u001B[0mfit\u001B[0m\u001B[1;33m(\u001B[0m\u001B[0mtrain_X\u001B[0m\u001B[1;33m,\u001B[0m \u001B[0mtrain_y\u001B[0m\u001B[1;33m)\u001B[0m\u001B[1;33m\u001B[0m\u001B[1;33m\u001B[0m\u001B[0m\n\u001B[0m\u001B[0;32m     33\u001B[0m     \u001B[0mpred_y\u001B[0m \u001B[1;33m=\u001B[0m \u001B[0mmodel\u001B[0m\u001B[1;33m.\u001B[0m\u001B[0mpredict\u001B[0m\u001B[1;33m(\u001B[0m\u001B[0mtest_y\u001B[0m\u001B[1;33m)\u001B[0m\u001B[1;33m\u001B[0m\u001B[1;33m\u001B[0m\u001B[0m\n\u001B[0;32m     34\u001B[0m     \u001B[0mscore\u001B[0m \u001B[1;33m=\u001B[0m \u001B[0maccuracy_score\u001B[0m\u001B[1;33m(\u001B[0m\u001B[0mtest_y\u001B[0m\u001B[1;33m,\u001B[0m\u001B[0mpred_y\u001B[0m\u001B[1;33m)\u001B[0m\u001B[1;33m\u001B[0m\u001B[1;33m\u001B[0m\u001B[0m\n",
      "\u001B[1;32m~\\anaconda3\\lib\\site-packages\\hmmlearn\\base.py\u001B[0m in \u001B[0;36mfit\u001B[1;34m(self, X, lengths)\u001B[0m\n\u001B[0;32m    466\u001B[0m             \u001B[0mlengths\u001B[0m \u001B[1;33m=\u001B[0m \u001B[0mnp\u001B[0m\u001B[1;33m.\u001B[0m\u001B[0masarray\u001B[0m\u001B[1;33m(\u001B[0m\u001B[1;33m[\u001B[0m\u001B[0mX\u001B[0m\u001B[1;33m.\u001B[0m\u001B[0mshape\u001B[0m\u001B[1;33m[\u001B[0m\u001B[1;36m0\u001B[0m\u001B[1;33m]\u001B[0m\u001B[1;33m]\u001B[0m\u001B[1;33m)\u001B[0m\u001B[1;33m\u001B[0m\u001B[1;33m\u001B[0m\u001B[0m\n\u001B[0;32m    467\u001B[0m \u001B[1;33m\u001B[0m\u001B[0m\n\u001B[1;32m--> 468\u001B[1;33m         \u001B[0mself\u001B[0m\u001B[1;33m.\u001B[0m\u001B[0m_init\u001B[0m\u001B[1;33m(\u001B[0m\u001B[0mX\u001B[0m\u001B[1;33m,\u001B[0m \u001B[0mlengths\u001B[0m\u001B[1;33m)\u001B[0m\u001B[1;33m\u001B[0m\u001B[1;33m\u001B[0m\u001B[0m\n\u001B[0m\u001B[0;32m    469\u001B[0m         \u001B[0mself\u001B[0m\u001B[1;33m.\u001B[0m\u001B[0m_check\u001B[0m\u001B[1;33m(\u001B[0m\u001B[1;33m)\u001B[0m\u001B[1;33m\u001B[0m\u001B[1;33m\u001B[0m\u001B[0m\n\u001B[0;32m    470\u001B[0m         \u001B[0mself\u001B[0m\u001B[1;33m.\u001B[0m\u001B[0mmonitor_\u001B[0m\u001B[1;33m.\u001B[0m\u001B[0m_reset\u001B[0m\u001B[1;33m(\u001B[0m\u001B[1;33m)\u001B[0m\u001B[1;33m\u001B[0m\u001B[1;33m\u001B[0m\u001B[0m\n",
      "\u001B[1;32m~\\anaconda3\\lib\\site-packages\\hmmlearn\\hmm.py\u001B[0m in \u001B[0;36m_init\u001B[1;34m(self, X, lengths)\u001B[0m\n\u001B[0;32m    893\u001B[0m \u001B[1;33m\u001B[0m\u001B[0m\n\u001B[0;32m    894\u001B[0m     \u001B[1;32mdef\u001B[0m \u001B[0m_init\u001B[0m\u001B[1;33m(\u001B[0m\u001B[0mself\u001B[0m\u001B[1;33m,\u001B[0m \u001B[0mX\u001B[0m\u001B[1;33m,\u001B[0m \u001B[0mlengths\u001B[0m\u001B[1;33m=\u001B[0m\u001B[1;32mNone\u001B[0m\u001B[1;33m)\u001B[0m\u001B[1;33m:\u001B[0m\u001B[1;33m\u001B[0m\u001B[1;33m\u001B[0m\u001B[0m\n\u001B[1;32m--> 895\u001B[1;33m         \u001B[0msuper\u001B[0m\u001B[1;33m(\u001B[0m\u001B[1;33m)\u001B[0m\u001B[1;33m.\u001B[0m\u001B[0m_init\u001B[0m\u001B[1;33m(\u001B[0m\u001B[0mX\u001B[0m\u001B[1;33m,\u001B[0m \u001B[0mlengths\u001B[0m\u001B[1;33m=\u001B[0m\u001B[1;32mNone\u001B[0m\u001B[1;33m)\u001B[0m\u001B[1;33m\u001B[0m\u001B[1;33m\u001B[0m\u001B[0m\n\u001B[0m\u001B[0;32m    896\u001B[0m         \u001B[0mself\u001B[0m\u001B[1;33m.\u001B[0m\u001B[0mrandom_state\u001B[0m \u001B[1;33m=\u001B[0m \u001B[0mcheck_random_state\u001B[0m\u001B[1;33m(\u001B[0m\u001B[0mself\u001B[0m\u001B[1;33m.\u001B[0m\u001B[0mrandom_state\u001B[0m\u001B[1;33m)\u001B[0m\u001B[1;33m\u001B[0m\u001B[1;33m\u001B[0m\u001B[0m\n\u001B[0;32m    897\u001B[0m         \u001B[1;32mif\u001B[0m \u001B[1;34m'e'\u001B[0m \u001B[1;32min\u001B[0m \u001B[0mself\u001B[0m\u001B[1;33m.\u001B[0m\u001B[0minit_params\u001B[0m\u001B[1;33m:\u001B[0m\u001B[1;33m\u001B[0m\u001B[1;33m\u001B[0m\u001B[0m\n",
      "\u001B[1;32m~\\anaconda3\\lib\\site-packages\\hmmlearn\\base.py\u001B[0m in \u001B[0;36m_init\u001B[1;34m(self, X, lengths)\u001B[0m\n\u001B[0;32m    906\u001B[0m             \u001B[0mFeature\u001B[0m \u001B[0mmatrix\u001B[0m \u001B[0mof\u001B[0m \u001B[0mindividual\u001B[0m \u001B[0msamples\u001B[0m\u001B[1;33m.\u001B[0m\u001B[1;33m\u001B[0m\u001B[1;33m\u001B[0m\u001B[0m\n\u001B[0;32m    907\u001B[0m         \"\"\"\n\u001B[1;32m--> 908\u001B[1;33m         \u001B[0mself\u001B[0m\u001B[1;33m.\u001B[0m\u001B[0m_check_and_set_n_features\u001B[0m\u001B[1;33m(\u001B[0m\u001B[0mX\u001B[0m\u001B[1;33m)\u001B[0m\u001B[1;33m\u001B[0m\u001B[1;33m\u001B[0m\u001B[0m\n\u001B[0m\u001B[0;32m    909\u001B[0m         \u001B[0minit\u001B[0m \u001B[1;33m=\u001B[0m \u001B[1;36m1.\u001B[0m \u001B[1;33m/\u001B[0m \u001B[0mself\u001B[0m\u001B[1;33m.\u001B[0m\u001B[0mn_components\u001B[0m\u001B[1;33m\u001B[0m\u001B[1;33m\u001B[0m\u001B[0m\n\u001B[0;32m    910\u001B[0m         \u001B[0mrandom_state\u001B[0m \u001B[1;33m=\u001B[0m \u001B[0mcheck_random_state\u001B[0m\u001B[1;33m(\u001B[0m\u001B[0mself\u001B[0m\u001B[1;33m.\u001B[0m\u001B[0mrandom_state\u001B[0m\u001B[1;33m)\u001B[0m\u001B[1;33m\u001B[0m\u001B[1;33m\u001B[0m\u001B[0m\n",
      "\u001B[1;32m~\\anaconda3\\lib\\site-packages\\hmmlearn\\_emissions.py\u001B[0m in \u001B[0;36m_check_and_set_n_features\u001B[1;34m(self, X)\u001B[0m\n\u001B[0;32m    317\u001B[0m         \u001B[0msuper\u001B[0m\u001B[1;33m(\u001B[0m\u001B[1;33m)\u001B[0m\u001B[1;33m.\u001B[0m\u001B[0m_check_and_set_n_features\u001B[0m\u001B[1;33m(\u001B[0m\u001B[0mX\u001B[0m\u001B[1;33m)\u001B[0m\u001B[1;33m\u001B[0m\u001B[1;33m\u001B[0m\u001B[0m\n\u001B[0;32m    318\u001B[0m         \u001B[1;32mif\u001B[0m \u001B[1;32mnot\u001B[0m \u001B[0mnp\u001B[0m\u001B[1;33m.\u001B[0m\u001B[0missubdtype\u001B[0m\u001B[1;33m(\u001B[0m\u001B[0mX\u001B[0m\u001B[1;33m.\u001B[0m\u001B[0mdtype\u001B[0m\u001B[1;33m,\u001B[0m \u001B[0mnp\u001B[0m\u001B[1;33m.\u001B[0m\u001B[0minteger\u001B[0m\u001B[1;33m)\u001B[0m \u001B[1;32mor\u001B[0m \u001B[0mX\u001B[0m\u001B[1;33m.\u001B[0m\u001B[0mmin\u001B[0m\u001B[1;33m(\u001B[0m\u001B[1;33m)\u001B[0m \u001B[1;33m<\u001B[0m \u001B[1;36m0\u001B[0m\u001B[1;33m:\u001B[0m\u001B[1;33m\u001B[0m\u001B[1;33m\u001B[0m\u001B[0m\n\u001B[1;32m--> 319\u001B[1;33m             \u001B[1;32mraise\u001B[0m \u001B[0mValueError\u001B[0m\u001B[1;33m(\u001B[0m\u001B[1;34m\"Symbol counts should be nonnegative integers\"\u001B[0m\u001B[1;33m)\u001B[0m\u001B[1;33m\u001B[0m\u001B[1;33m\u001B[0m\u001B[0m\n\u001B[0m\u001B[0;32m    320\u001B[0m         \u001B[1;32mif\u001B[0m \u001B[0mself\u001B[0m\u001B[1;33m.\u001B[0m\u001B[0mn_trials\u001B[0m \u001B[1;32mis\u001B[0m \u001B[1;32mNone\u001B[0m\u001B[1;33m:\u001B[0m\u001B[1;33m\u001B[0m\u001B[1;33m\u001B[0m\u001B[0m\n\u001B[0;32m    321\u001B[0m             \u001B[0mself\u001B[0m\u001B[1;33m.\u001B[0m\u001B[0mn_trials\u001B[0m \u001B[1;33m=\u001B[0m \u001B[0mX\u001B[0m\u001B[1;33m.\u001B[0m\u001B[0msum\u001B[0m\u001B[1;33m(\u001B[0m\u001B[0maxis\u001B[0m\u001B[1;33m=\u001B[0m\u001B[1;36m1\u001B[0m\u001B[1;33m)\u001B[0m\u001B[1;33m\u001B[0m\u001B[1;33m\u001B[0m\u001B[0m\n",
      "\u001B[1;31mValueError\u001B[0m: Symbol counts should be nonnegative integers"
     ]
    }
   ],
   "source": [
    "from hmmlearn.hmm import MultinomialHMM\n",
    "from matplotlib import pyplot as plt\n",
    "from sklearn.metrics import accuracy_score, classification_report, confusion_matrix, ConfusionMatrixDisplay\n",
    "from sklearn.model_selection import train_test_split\n",
    "from itertools import product\n",
    "import numpy as np\n",
    "\n",
    "state_range_values = [2, 3, 4, 5]\n",
    "algorithm_values = ['viterbi', 'map']  # Choose the appropriate algorithm\n",
    "random_state_values = [None]  # Set to None or an integer value for reproducibility\n",
    "n_iter_values = [100, 150, 200, 300, 500]  # Adjust the number of iterations as needed\n",
    "tol_values = [1e-3, 1e-4, 1e-5, 1e-6]  # Tolerance threshold for convergence\n",
    "covariance_type_values = ['full', 'diag', 'spherical']  # Adjust covariance types\n",
    "n_mix_values = [1, 2, 3]                  # Vary the number of Gaussian mixtures per state\n",
    "init_params_values = ['s', 'm', 'sm', 'stmcw']      # Vary initialization parameters\n",
    "min_covar_values = [1e-3, 1e-4, 1e-5]        # Vary the minimum covariance value\n",
    "test_size_values = [0.1,0.2,0.3,0.4]\n",
    "\n",
    "\n",
    "best_model = None\n",
    "best_score = float('-inf')\n",
    "best_train_test_ratio = 0.0\n",
    "best_param_list = []\n",
    "best_pred_y = 0\n",
    "best_test_y = 0\n",
    "\n",
    "for num_of_states,algo_type,random_state,n_iter,covariance_type,tol,test_size,n_mix,init_params,min_covar in product(state_range_values,algorithm_values, random_state_values, n_iter_values, covariance_type_values,tol_values,test_size_values, n_mix_values, init_params_values, min_covar_values):\n",
    "\n",
    "    train_X, test_X, train_y, test_y = train_test_split(wine_X,wine_Y,random_state=None,test_size=test_size)\n",
    "    params = set(np.array(train_X).ravel())\n",
    "    model = MultinomialHMM(n_components=num_of_states,algorithm=algo_type,random_state=random_state,n_iter=n_iter, tol=tol, init_params=init_params,params=params)\n",
    "    model.fit(train_X, train_y)\n",
    "    pred_y = model.predict(test_y)\n",
    "    score = accuracy_score(test_y,pred_y)\n",
    "\n",
    "    if score > best_score:\n",
    "        best_score = score\n",
    "        best_train_test_ratio = test_size\n",
    "        best_model = model\n",
    "        best_param_list = [num_of_states,algo_type,random_state,n_iter,covariance_type,tol]\n",
    "        best_pred_y = pred_y\n",
    "        best_test_y = test_y"
   ],
   "metadata": {
    "collapsed": false
   }
  },
  {
   "cell_type": "markdown",
   "source": [],
   "metadata": {
    "collapsed": false
   }
  },
  {
   "cell_type": "code",
   "execution_count": null,
   "outputs": [],
   "source": [],
   "metadata": {
    "collapsed": false
   }
  }
 ],
 "metadata": {
  "kernelspec": {
   "display_name": "Python 3",
   "language": "python",
   "name": "python3"
  },
  "language_info": {
   "codemirror_mode": {
    "name": "ipython",
    "version": 2
   },
   "file_extension": ".py",
   "mimetype": "text/x-python",
   "name": "python",
   "nbconvert_exporter": "python",
   "pygments_lexer": "ipython2",
   "version": "2.7.6"
  }
 },
 "nbformat": 4,
 "nbformat_minor": 0
}
